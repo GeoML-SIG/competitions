{
 "cells": [
  {
   "cell_type": "markdown",
   "source": [
    "## Getting testing data coordinates from S3\n",
    "\n",
    "In this notebook we will download a dataframe populated with testing data.\n",
    "\n",
    "However, all values will be blank (NaN).\n",
    "\n",
    "We expect competitors to run their predictive models and fill in the blank locations\n",
    "using their predictions at the IL/XL/TWT locations.\n",
    "\n",
    "There are two blind wells for evaluation.\n",
    "\n",
    "Once results are submitted, we will be calculating R^2 scores with ground truth data\n",
    "and results will be put on the leaderboard."
   ],
   "metadata": {
    "collapsed": false,
    "pycharm": {
     "name": "#%% md\n"
    }
   }
  },
  {
   "cell_type": "markdown",
   "source": [
    "Doing imports."
   ],
   "metadata": {
    "collapsed": false,
    "pycharm": {
     "name": "#%% md\n"
    }
   }
  },
  {
   "cell_type": "code",
   "execution_count": 1,
   "outputs": [],
   "source": [
    "from pandas import read_json"
   ],
   "metadata": {
    "collapsed": false,
    "pycharm": {
     "name": "#%%\n"
    }
   }
  },
  {
   "cell_type": "markdown",
   "source": [
    "## Loading AWS Credentials\n",
    "\n",
    "See Tutorials #1 for setting up credentials on local machines."
   ],
   "metadata": {
    "collapsed": false,
    "pycharm": {
     "name": "#%% md\n"
    }
   },
   "execution_count": 2
  },
  {
   "cell_type": "markdown",
   "source": [
    "## Getting the Blank DataFrame\n",
    "\n",
    "We have the blind wells in the same format as training wells.\n",
    "\n",
    "They have inline, crossline, and two-way time values provided (coordinates).\n",
    "\n",
    "We expect you to run your feature extraction, feature engineering, and predictions around or at\n",
    "these locations and populate this DataFrame without adding/removing or changing the shape.\n",
    "\n",
    "We will then evaluate results comparing these to ground truth data.\n",
    "\n",
    "See the output of this cell for what it looks like.\n",
    "\n",
    "**Any result that is not the same shape as this DataFrame will not be considered.**\n",
    "\n",
    "**Any result that has `NaN` values in the results DataFrame will not be considered.**"
   ],
   "metadata": {
    "collapsed": false,
    "pycharm": {
     "name": "#%% md\n"
    }
   }
  },
  {
   "cell_type": "code",
   "execution_count": 2,
   "outputs": [
    {
     "data": {
      "text/plain": "                   inline      xline  rhob  p_impedance  s_impedance\nwell_id twt                                                         \nwell_07 2700.0  3256.5233  1389.3571   NaN          NaN          NaN\n        2700.5  3256.5234  1389.3559   NaN          NaN          NaN\n        2701.0  3256.5236  1389.3547   NaN          NaN          NaN\n        2701.5  3256.5237  1389.3535   NaN          NaN          NaN\n        2702.0  3256.5238  1389.3523   NaN          NaN          NaN\n...                   ...        ...   ...          ...          ...\nwell_13 3383.5  2407.1952  2675.8771   NaN          NaN          NaN\n        3384.0  2407.1905  2675.8925   NaN          NaN          NaN\n        3384.5  2407.1858  2675.9078   NaN          NaN          NaN\n        3385.0  2407.1811  2675.9232   NaN          NaN          NaN\n        3385.5  2407.1763  2675.9386   NaN          NaN          NaN\n\n[1773 rows x 5 columns]",
      "text/html": "<div>\n<style scoped>\n    .dataframe tbody tr th:only-of-type {\n        vertical-align: middle;\n    }\n\n    .dataframe tbody tr th {\n        vertical-align: top;\n    }\n\n    .dataframe thead th {\n        text-align: right;\n    }\n</style>\n<table border=\"1\" class=\"dataframe\">\n  <thead>\n    <tr style=\"text-align: right;\">\n      <th></th>\n      <th></th>\n      <th>inline</th>\n      <th>xline</th>\n      <th>rhob</th>\n      <th>p_impedance</th>\n      <th>s_impedance</th>\n    </tr>\n    <tr>\n      <th>well_id</th>\n      <th>twt</th>\n      <th></th>\n      <th></th>\n      <th></th>\n      <th></th>\n      <th></th>\n    </tr>\n  </thead>\n  <tbody>\n    <tr>\n      <th rowspan=\"5\" valign=\"top\">well_07</th>\n      <th>2700.0</th>\n      <td>3256.5233</td>\n      <td>1389.3571</td>\n      <td>NaN</td>\n      <td>NaN</td>\n      <td>NaN</td>\n    </tr>\n    <tr>\n      <th>2700.5</th>\n      <td>3256.5234</td>\n      <td>1389.3559</td>\n      <td>NaN</td>\n      <td>NaN</td>\n      <td>NaN</td>\n    </tr>\n    <tr>\n      <th>2701.0</th>\n      <td>3256.5236</td>\n      <td>1389.3547</td>\n      <td>NaN</td>\n      <td>NaN</td>\n      <td>NaN</td>\n    </tr>\n    <tr>\n      <th>2701.5</th>\n      <td>3256.5237</td>\n      <td>1389.3535</td>\n      <td>NaN</td>\n      <td>NaN</td>\n      <td>NaN</td>\n    </tr>\n    <tr>\n      <th>2702.0</th>\n      <td>3256.5238</td>\n      <td>1389.3523</td>\n      <td>NaN</td>\n      <td>NaN</td>\n      <td>NaN</td>\n    </tr>\n    <tr>\n      <th>...</th>\n      <th>...</th>\n      <td>...</td>\n      <td>...</td>\n      <td>...</td>\n      <td>...</td>\n      <td>...</td>\n    </tr>\n    <tr>\n      <th rowspan=\"5\" valign=\"top\">well_13</th>\n      <th>3383.5</th>\n      <td>2407.1952</td>\n      <td>2675.8771</td>\n      <td>NaN</td>\n      <td>NaN</td>\n      <td>NaN</td>\n    </tr>\n    <tr>\n      <th>3384.0</th>\n      <td>2407.1905</td>\n      <td>2675.8925</td>\n      <td>NaN</td>\n      <td>NaN</td>\n      <td>NaN</td>\n    </tr>\n    <tr>\n      <th>3384.5</th>\n      <td>2407.1858</td>\n      <td>2675.9078</td>\n      <td>NaN</td>\n      <td>NaN</td>\n      <td>NaN</td>\n    </tr>\n    <tr>\n      <th>3385.0</th>\n      <td>2407.1811</td>\n      <td>2675.9232</td>\n      <td>NaN</td>\n      <td>NaN</td>\n      <td>NaN</td>\n    </tr>\n    <tr>\n      <th>3385.5</th>\n      <td>2407.1763</td>\n      <td>2675.9386</td>\n      <td>NaN</td>\n      <td>NaN</td>\n      <td>NaN</td>\n    </tr>\n  </tbody>\n</table>\n<p>1773 rows × 5 columns</p>\n</div>"
     },
     "execution_count": 2,
     "metadata": {},
     "output_type": "execute_result"
    }
   ],
   "source": [
    "well_bucket = 's3://sagemaker-gitc2021/poseidon/wells/'\n",
    "well_file = 'poseidon_geoml_testing_wells_blank.json.gz'\n",
    "\n",
    "well_df = read_json(\n",
    "    path_or_buf=well_bucket + well_file,\n",
    "    compression='gzip',\n",
    ")\n",
    "\n",
    "well_df.set_index(['well_id', 'twt'], inplace=True)\n",
    "\n",
    "well_df"
   ],
   "metadata": {
    "collapsed": false,
    "pycharm": {
     "name": "#%%\n"
    }
   }
  },
  {
   "cell_type": "markdown",
   "source": [
    "Below are the statistics. As you can see, the rhob, p_impedance, and s_impedance are blank."
   ],
   "metadata": {
    "collapsed": false,
    "pycharm": {
     "name": "#%% md\n"
    }
   }
  },
  {
   "cell_type": "code",
   "execution_count": 3,
   "outputs": [
    {
     "data": {
      "text/plain": "            inline        xline  rhob  p_impedance  s_impedance\ncount  1773.000000  1773.000000   0.0          0.0          0.0\nmean   3007.407384  1766.345919   NaN          NaN          NaN\nstd     386.799776   584.865566   NaN          NaN          NaN\nmin    2407.176300  1389.007600   NaN          NaN          NaN\n25%    2408.257100  1389.061300   NaN          NaN          NaN\n50%    3256.584400  1389.211300   NaN          NaN          NaN\n75%    3257.002100  2671.080300   NaN          NaN          NaN\nmax    3257.313500  2675.938600   NaN          NaN          NaN",
      "text/html": "<div>\n<style scoped>\n    .dataframe tbody tr th:only-of-type {\n        vertical-align: middle;\n    }\n\n    .dataframe tbody tr th {\n        vertical-align: top;\n    }\n\n    .dataframe thead th {\n        text-align: right;\n    }\n</style>\n<table border=\"1\" class=\"dataframe\">\n  <thead>\n    <tr style=\"text-align: right;\">\n      <th></th>\n      <th>inline</th>\n      <th>xline</th>\n      <th>rhob</th>\n      <th>p_impedance</th>\n      <th>s_impedance</th>\n    </tr>\n  </thead>\n  <tbody>\n    <tr>\n      <th>count</th>\n      <td>1773.000000</td>\n      <td>1773.000000</td>\n      <td>0.0</td>\n      <td>0.0</td>\n      <td>0.0</td>\n    </tr>\n    <tr>\n      <th>mean</th>\n      <td>3007.407384</td>\n      <td>1766.345919</td>\n      <td>NaN</td>\n      <td>NaN</td>\n      <td>NaN</td>\n    </tr>\n    <tr>\n      <th>std</th>\n      <td>386.799776</td>\n      <td>584.865566</td>\n      <td>NaN</td>\n      <td>NaN</td>\n      <td>NaN</td>\n    </tr>\n    <tr>\n      <th>min</th>\n      <td>2407.176300</td>\n      <td>1389.007600</td>\n      <td>NaN</td>\n      <td>NaN</td>\n      <td>NaN</td>\n    </tr>\n    <tr>\n      <th>25%</th>\n      <td>2408.257100</td>\n      <td>1389.061300</td>\n      <td>NaN</td>\n      <td>NaN</td>\n      <td>NaN</td>\n    </tr>\n    <tr>\n      <th>50%</th>\n      <td>3256.584400</td>\n      <td>1389.211300</td>\n      <td>NaN</td>\n      <td>NaN</td>\n      <td>NaN</td>\n    </tr>\n    <tr>\n      <th>75%</th>\n      <td>3257.002100</td>\n      <td>2671.080300</td>\n      <td>NaN</td>\n      <td>NaN</td>\n      <td>NaN</td>\n    </tr>\n    <tr>\n      <th>max</th>\n      <td>3257.313500</td>\n      <td>2675.938600</td>\n      <td>NaN</td>\n      <td>NaN</td>\n      <td>NaN</td>\n    </tr>\n  </tbody>\n</table>\n</div>"
     },
     "execution_count": 3,
     "metadata": {},
     "output_type": "execute_result"
    }
   ],
   "source": [
    "well_df.describe()"
   ],
   "metadata": {
    "collapsed": false,
    "pycharm": {
     "name": "#%%\n"
    }
   }
  },
  {
   "cell_type": "markdown",
   "source": [
    "We will accept results uploaded into these S3 buckets.\n",
    "\n",
    "Please use following paths and file names as a template. The code cell after the\n",
    "explanation will have an example.\n",
    "\n",
    "**Intermediate:**\n",
    "\n",
    "`bucket =` *`s3://sagemaker-gitc2021/poseidon/wells/submissions/intermediate/`*\n",
    "\n",
    "`file_name =` *`TeamName_Intermediate_Results_YYYYMMDD.json.gz`*\n",
    "\n",
    "**Final:**\n",
    "\n",
    "`bucket =` *`s3://sagemaker-gitc2021/poseidon/wells/submissions/final/`*\n",
    "\n",
    "`file_name = `*`TeamName_Final_Results_YYYYMMDD.json.gz`*\n",
    "\n",
    "Final submissions must be in the same `.json.gz` format. This can be achieved by using the\n",
    "following code snippet. This assumes your populated DataFrame variable is named `result`."
   ],
   "metadata": {
    "collapsed": false,
    "pycharm": {
     "name": "#%% md\n"
    }
   }
  },
  {
   "cell_type": "code",
   "execution_count": null,
   "outputs": [],
   "source": [
    "bucket = 's3://sagemaker-gitc2021/poseidon/wells/submissions/intermediate/'\n",
    "\n",
    "file_name = 'MyTeam_Intermediate_Results_20210416.json.gz'\n",
    "\n",
    "# Making sure extension is in the file name.\n",
    "if not file_name.lower().endswith('.json.gz'):\n",
    "    file_name += '.json.gz'\n",
    "\n",
    "my_result.reset_index(inplace=True)\n",
    "my_result.to_json(\n",
    "    path_or_buf=bucket + file_name,\n",
    "    double_precision=4,\n",
    "    compression='gzip'\n",
    ")"
   ],
   "metadata": {
    "collapsed": false,
    "pycharm": {
     "name": "#%%\n"
    }
   }
  }
 ],
 "metadata": {
  "kernelspec": {
   "display_name": "Python 3",
   "language": "python",
   "name": "python3"
  },
  "language_info": {
   "codemirror_mode": {
    "name": "ipython",
    "version": 2
   },
   "file_extension": ".py",
   "mimetype": "text/x-python",
   "name": "python",
   "nbconvert_exporter": "python",
   "pygments_lexer": "ipython2",
   "version": "2.7.6"
  }
 },
 "nbformat": 4,
 "nbformat_minor": 0
}