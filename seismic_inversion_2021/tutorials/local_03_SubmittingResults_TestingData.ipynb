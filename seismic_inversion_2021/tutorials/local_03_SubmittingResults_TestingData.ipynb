{
 "cells": [
  {
   "cell_type": "markdown",
   "source": [
    "## Getting testing data coordinates from S3\n",
    "\n",
    "In this notebook we will download a dataframe populated with testing data.\n",
    "\n",
    "However, all values will be blank (NaN).\n",
    "\n",
    "We expect competitors to run their predictive models and fill in the blank locations\n",
    "using their predictions at the IL/XL/TWT locations.\n",
    "\n",
    "There are two blind wells for evaluation.\n",
    "\n",
    "Once results are submitted, we will be calculating R^2 scores with ground truth data\n",
    "and results will be put on the leaderboard."
   ],
   "metadata": {
    "collapsed": false,
    "pycharm": {
     "name": "#%% md\n"
    }
   }
  },
  {
   "cell_type": "markdown",
   "source": [
    "Doing imports."
   ],
   "metadata": {
    "collapsed": false,
    "pycharm": {
     "name": "#%% md\n"
    }
   }
  },
  {
   "cell_type": "code",
   "execution_count": 2,
   "outputs": [],
   "source": [
    "from pandas import read_json"
   ],
   "metadata": {
    "collapsed": false,
    "pycharm": {
     "name": "#%%\n"
    }
   }
  },
  {
   "cell_type": "markdown",
   "source": [
    "## Loading AWS Credentials\n",
    "\n",
    "See Tutorials #1 for setting up credentials on local machines."
   ],
   "metadata": {
    "collapsed": false,
    "pycharm": {
     "name": "#%% md\n"
    }
   },
   "execution_count": 2
  },
  {
   "cell_type": "markdown",
   "source": [
    "## Getting the Blank DataFrame\n",
    "\n",
    "We have the blind wells in the same format as training wells.\n",
    "\n",
    "They have inline, crossline, and two-way time values provided (coordinates).\n",
    "\n",
    "We expect you to run your feature extraction, feature engineering, and predictions around or at\n",
    "these locations and populate this DataFrame without adding/removing or changing the shape.\n",
    "\n",
    "We will then evaluate results comparing these to ground truth data.\n",
    "\n",
    "See the output of this cell for what it looks like.\n",
    "\n",
    "**Any result that is not the same shape as this DataFrame will not be considered.**\n",
    "\n",
    "**Any result that has `NaN` values in the results DataFrame will not be considered.**"
   ],
   "metadata": {
    "collapsed": false,
    "pycharm": {
     "name": "#%% md\n"
    }
   }
  },
  {
   "cell_type": "code",
   "execution_count": 3,
   "outputs": [
    {
     "data": {
      "text/plain": "                index     inline      xline  rhob  p_impedance  s_impedance\nwell_id twt                                                                \nwell_07 2708.0      0  3256.5233  1389.3570   NaN          NaN          NaN\n        2708.5      1  3256.5234  1389.3558   NaN          NaN          NaN\n        2709.0      2  3256.5236  1389.3546   NaN          NaN          NaN\n        2709.5      3  3256.5237  1389.3534   NaN          NaN          NaN\n        2710.0      4  3256.5238  1389.3522   NaN          NaN          NaN\n...               ...        ...        ...   ...          ...          ...\nwell_13 3245.0   1783  2407.1965  2675.8730   NaN          NaN          NaN\n        3245.5   1784  2407.1917  2675.8885   NaN          NaN          NaN\n        3246.0   1785  2407.1866  2675.9051   NaN          NaN          NaN\n        3246.5   1786  2407.1811  2675.9232   NaN          NaN          NaN\n        3247.0   1787  2407.1751  2675.9426   NaN          NaN          NaN\n\n[1788 rows x 6 columns]",
      "text/html": "<div>\n<style scoped>\n    .dataframe tbody tr th:only-of-type {\n        vertical-align: middle;\n    }\n\n    .dataframe tbody tr th {\n        vertical-align: top;\n    }\n\n    .dataframe thead th {\n        text-align: right;\n    }\n</style>\n<table border=\"1\" class=\"dataframe\">\n  <thead>\n    <tr style=\"text-align: right;\">\n      <th></th>\n      <th></th>\n      <th>index</th>\n      <th>inline</th>\n      <th>xline</th>\n      <th>rhob</th>\n      <th>p_impedance</th>\n      <th>s_impedance</th>\n    </tr>\n    <tr>\n      <th>well_id</th>\n      <th>twt</th>\n      <th></th>\n      <th></th>\n      <th></th>\n      <th></th>\n      <th></th>\n      <th></th>\n    </tr>\n  </thead>\n  <tbody>\n    <tr>\n      <th rowspan=\"5\" valign=\"top\">well_07</th>\n      <th>2708.0</th>\n      <td>0</td>\n      <td>3256.5233</td>\n      <td>1389.3570</td>\n      <td>NaN</td>\n      <td>NaN</td>\n      <td>NaN</td>\n    </tr>\n    <tr>\n      <th>2708.5</th>\n      <td>1</td>\n      <td>3256.5234</td>\n      <td>1389.3558</td>\n      <td>NaN</td>\n      <td>NaN</td>\n      <td>NaN</td>\n    </tr>\n    <tr>\n      <th>2709.0</th>\n      <td>2</td>\n      <td>3256.5236</td>\n      <td>1389.3546</td>\n      <td>NaN</td>\n      <td>NaN</td>\n      <td>NaN</td>\n    </tr>\n    <tr>\n      <th>2709.5</th>\n      <td>3</td>\n      <td>3256.5237</td>\n      <td>1389.3534</td>\n      <td>NaN</td>\n      <td>NaN</td>\n      <td>NaN</td>\n    </tr>\n    <tr>\n      <th>2710.0</th>\n      <td>4</td>\n      <td>3256.5238</td>\n      <td>1389.3522</td>\n      <td>NaN</td>\n      <td>NaN</td>\n      <td>NaN</td>\n    </tr>\n    <tr>\n      <th>...</th>\n      <th>...</th>\n      <td>...</td>\n      <td>...</td>\n      <td>...</td>\n      <td>...</td>\n      <td>...</td>\n      <td>...</td>\n    </tr>\n    <tr>\n      <th rowspan=\"5\" valign=\"top\">well_13</th>\n      <th>3245.0</th>\n      <td>1783</td>\n      <td>2407.1965</td>\n      <td>2675.8730</td>\n      <td>NaN</td>\n      <td>NaN</td>\n      <td>NaN</td>\n    </tr>\n    <tr>\n      <th>3245.5</th>\n      <td>1784</td>\n      <td>2407.1917</td>\n      <td>2675.8885</td>\n      <td>NaN</td>\n      <td>NaN</td>\n      <td>NaN</td>\n    </tr>\n    <tr>\n      <th>3246.0</th>\n      <td>1785</td>\n      <td>2407.1866</td>\n      <td>2675.9051</td>\n      <td>NaN</td>\n      <td>NaN</td>\n      <td>NaN</td>\n    </tr>\n    <tr>\n      <th>3246.5</th>\n      <td>1786</td>\n      <td>2407.1811</td>\n      <td>2675.9232</td>\n      <td>NaN</td>\n      <td>NaN</td>\n      <td>NaN</td>\n    </tr>\n    <tr>\n      <th>3247.0</th>\n      <td>1787</td>\n      <td>2407.1751</td>\n      <td>2675.9426</td>\n      <td>NaN</td>\n      <td>NaN</td>\n      <td>NaN</td>\n    </tr>\n  </tbody>\n</table>\n<p>1788 rows × 6 columns</p>\n</div>"
     },
     "execution_count": 3,
     "metadata": {},
     "output_type": "execute_result"
    }
   ],
   "source": [
    "well_bucket = 's3://sagemaker-gitc2021/poseidon/wells/'\n",
    "well_file = 'poseidon_geoml_testing_wells_blank.json.gz'\n",
    "\n",
    "well_df = read_json(\n",
    "    path_or_buf=well_bucket + well_file,\n",
    "    compression='gzip',\n",
    ")\n",
    "\n",
    "well_df.set_index(['well_id', 'twt'], inplace=True)\n",
    "\n",
    "well_df"
   ],
   "metadata": {
    "collapsed": false,
    "pycharm": {
     "name": "#%%\n"
    }
   }
  },
  {
   "cell_type": "markdown",
   "source": [
    "Below are the statistics. As you can see, the rhob, p_impedance, and s_impedance are blank."
   ],
   "metadata": {
    "collapsed": false,
    "pycharm": {
     "name": "#%% md\n"
    }
   }
  },
  {
   "cell_type": "code",
   "execution_count": 4,
   "outputs": [
    {
     "data": {
      "text/plain": "             index       inline        xline  rhob  p_impedance  s_impedance\ncount  1788.000000  1788.000000  1788.000000   0.0          0.0          0.0\nmean    893.500000  2997.641068  1781.104954   NaN          NaN          NaN\nstd     516.295458   391.072115   591.295179   NaN          NaN          NaN\nmin       0.000000  2407.175100  1389.007600   NaN          NaN          NaN\n25%     446.750000  2408.253850  1389.064000   NaN          NaN          NaN\n50%     893.500000  3256.583700  1389.222750   NaN          NaN          NaN\n75%    1340.250000  3257.007125  2671.146450   NaN          NaN          NaN\nmax    1787.000000  3257.313500  2675.942600   NaN          NaN          NaN",
      "text/html": "<div>\n<style scoped>\n    .dataframe tbody tr th:only-of-type {\n        vertical-align: middle;\n    }\n\n    .dataframe tbody tr th {\n        vertical-align: top;\n    }\n\n    .dataframe thead th {\n        text-align: right;\n    }\n</style>\n<table border=\"1\" class=\"dataframe\">\n  <thead>\n    <tr style=\"text-align: right;\">\n      <th></th>\n      <th>index</th>\n      <th>inline</th>\n      <th>xline</th>\n      <th>rhob</th>\n      <th>p_impedance</th>\n      <th>s_impedance</th>\n    </tr>\n  </thead>\n  <tbody>\n    <tr>\n      <th>count</th>\n      <td>1788.000000</td>\n      <td>1788.000000</td>\n      <td>1788.000000</td>\n      <td>0.0</td>\n      <td>0.0</td>\n      <td>0.0</td>\n    </tr>\n    <tr>\n      <th>mean</th>\n      <td>893.500000</td>\n      <td>2997.641068</td>\n      <td>1781.104954</td>\n      <td>NaN</td>\n      <td>NaN</td>\n      <td>NaN</td>\n    </tr>\n    <tr>\n      <th>std</th>\n      <td>516.295458</td>\n      <td>391.072115</td>\n      <td>591.295179</td>\n      <td>NaN</td>\n      <td>NaN</td>\n      <td>NaN</td>\n    </tr>\n    <tr>\n      <th>min</th>\n      <td>0.000000</td>\n      <td>2407.175100</td>\n      <td>1389.007600</td>\n      <td>NaN</td>\n      <td>NaN</td>\n      <td>NaN</td>\n    </tr>\n    <tr>\n      <th>25%</th>\n      <td>446.750000</td>\n      <td>2408.253850</td>\n      <td>1389.064000</td>\n      <td>NaN</td>\n      <td>NaN</td>\n      <td>NaN</td>\n    </tr>\n    <tr>\n      <th>50%</th>\n      <td>893.500000</td>\n      <td>3256.583700</td>\n      <td>1389.222750</td>\n      <td>NaN</td>\n      <td>NaN</td>\n      <td>NaN</td>\n    </tr>\n    <tr>\n      <th>75%</th>\n      <td>1340.250000</td>\n      <td>3257.007125</td>\n      <td>2671.146450</td>\n      <td>NaN</td>\n      <td>NaN</td>\n      <td>NaN</td>\n    </tr>\n    <tr>\n      <th>max</th>\n      <td>1787.000000</td>\n      <td>3257.313500</td>\n      <td>2675.942600</td>\n      <td>NaN</td>\n      <td>NaN</td>\n      <td>NaN</td>\n    </tr>\n  </tbody>\n</table>\n</div>"
     },
     "execution_count": 4,
     "metadata": {},
     "output_type": "execute_result"
    }
   ],
   "source": [
    "well_df.describe()"
   ],
   "metadata": {
    "collapsed": false,
    "pycharm": {
     "name": "#%%\n"
    }
   }
  },
  {
   "cell_type": "markdown",
   "source": [
    "We will accept results uploaded into these S3 buckets.\n",
    "\n",
    "Please use following paths and file names as a template.\n",
    "\n",
    "**Intermediate:**\n",
    "\n",
    "`bucket =` *`s3://sagemaker-gitc2021/poseidon/wells/intermediate/`*\n",
    "\n",
    "`file_name =` *`TeamName_Intermediate_Results_YYYYMMDD.json.gz`*\n",
    "\n",
    "**Final:**\n",
    "\n",
    "`bucket =` *`s3://sagemaker-gitc2021/poseidon/wells/final/`*\n",
    "\n",
    "`file_name = `*`TeamName_Final_Results_YYYYMMDD.json.gz`*\n",
    "\n",
    "Final submissions must be in the same `.json.gz` format. This can be achieved by using the\n",
    "following code snippet. This assumes your populated DataFrame variable is named `result`.\n",
    "\n",
    "`bucket =` *`see_links_above`*\n",
    "\n",
    "`file_name =` *`see_format_above`*\n",
    "```\n",
    "result.to_json(\n",
    "    path_or_buf=bucket + file_name,\n",
    "    double_precision=4,\n",
    "    compression='gzip'\n",
    ")\n",
    "```"
   ],
   "metadata": {
    "collapsed": false,
    "pycharm": {
     "name": "#%% md\n"
    }
   }
  }
 ],
 "metadata": {
  "kernelspec": {
   "display_name": "Python 3",
   "language": "python",
   "name": "python3"
  },
  "language_info": {
   "codemirror_mode": {
    "name": "ipython",
    "version": 2
   },
   "file_extension": ".py",
   "mimetype": "text/x-python",
   "name": "python",
   "nbconvert_exporter": "python",
   "pygments_lexer": "ipython2",
   "version": "2.7.6"
  }
 },
 "nbformat": 4,
 "nbformat_minor": 0
}